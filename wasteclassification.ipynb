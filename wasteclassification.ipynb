{
 "cells": [
  {
   "cell_type": "markdown",
   "metadata": {},
   "source": [
    "## Waste Classification using CNN model"
   ]
  },
  {
   "cell_type": "markdown",
   "metadata": {},
   "source": []
  },
  {
   "cell_type": "code",
   "execution_count": 1,
   "metadata": {},
   "outputs": [
    {
     "name": "stdout",
     "output_type": "stream",
     "text": [
      "Requirement already satisfied: opencv-python in c:\\users\\lenovo\\appdata\\roaming\\python\\python312\\site-packages (4.10.0.84)\n",
      "Requirement already satisfied: numpy>=1.21.2 in c:\\users\\lenovo\\appdata\\roaming\\python\\python312\\site-packages (from opencv-python) (1.26.4)\n",
      "Note: you may need to restart the kernel to use updated packages.\n"
     ]
    }
   ],
   "source": [
    "pip install opencv-python"
   ]
  },
  {
   "cell_type": "code",
   "execution_count": 2,
   "metadata": {},
   "outputs": [
    {
     "name": "stdout",
     "output_type": "stream",
     "text": [
      "Collecting tensorflow\n",
      "  Downloading tensorflow-2.18.0-cp312-cp312-win_amd64.whl.metadata (3.3 kB)\n",
      "Collecting tensorflow-intel==2.18.0 (from tensorflow)\n",
      "  Downloading tensorflow_intel-2.18.0-cp312-cp312-win_amd64.whl.metadata (4.9 kB)\n",
      "Collecting absl-py>=1.0.0 (from tensorflow-intel==2.18.0->tensorflow)\n",
      "  Downloading absl_py-2.1.0-py3-none-any.whl.metadata (2.3 kB)\n",
      "Collecting astunparse>=1.6.0 (from tensorflow-intel==2.18.0->tensorflow)\n",
      "  Downloading astunparse-1.6.3-py2.py3-none-any.whl.metadata (4.4 kB)\n",
      "Collecting flatbuffers>=24.3.25 (from tensorflow-intel==2.18.0->tensorflow)\n",
      "  Downloading flatbuffers-25.1.21-py2.py3-none-any.whl.metadata (875 bytes)\n",
      "Collecting gast!=0.5.0,!=0.5.1,!=0.5.2,>=0.2.1 (from tensorflow-intel==2.18.0->tensorflow)\n",
      "  Downloading gast-0.6.0-py3-none-any.whl.metadata (1.3 kB)\n",
      "Collecting google-pasta>=0.1.1 (from tensorflow-intel==2.18.0->tensorflow)\n",
      "  Downloading google_pasta-0.2.0-py3-none-any.whl.metadata (814 bytes)\n",
      "Collecting libclang>=13.0.0 (from tensorflow-intel==2.18.0->tensorflow)\n",
      "  Downloading libclang-18.1.1-py2.py3-none-win_amd64.whl.metadata (5.3 kB)\n",
      "Collecting opt-einsum>=2.3.2 (from tensorflow-intel==2.18.0->tensorflow)\n",
      "  Downloading opt_einsum-3.4.0-py3-none-any.whl.metadata (6.3 kB)\n",
      "Requirement already satisfied: packaging in c:\\users\\lenovo\\appdata\\roaming\\python\\python312\\site-packages (from tensorflow-intel==2.18.0->tensorflow) (24.0)\n",
      "Requirement already satisfied: protobuf!=4.21.0,!=4.21.1,!=4.21.2,!=4.21.3,!=4.21.4,!=4.21.5,<6.0.0dev,>=3.20.3 in c:\\users\\lenovo\\appdata\\roaming\\python\\python312\\site-packages (from tensorflow-intel==2.18.0->tensorflow) (4.25.3)\n",
      "Requirement already satisfied: requests<3,>=2.21.0 in c:\\users\\lenovo\\appdata\\roaming\\python\\python312\\site-packages (from tensorflow-intel==2.18.0->tensorflow) (2.31.0)\n",
      "Requirement already satisfied: setuptools in c:\\users\\lenovo\\appdata\\roaming\\python\\python312\\site-packages (from tensorflow-intel==2.18.0->tensorflow) (71.1.0)\n",
      "Requirement already satisfied: six>=1.12.0 in c:\\users\\lenovo\\appdata\\roaming\\python\\python312\\site-packages (from tensorflow-intel==2.18.0->tensorflow) (1.16.0)\n",
      "Collecting termcolor>=1.1.0 (from tensorflow-intel==2.18.0->tensorflow)\n",
      "  Downloading termcolor-2.5.0-py3-none-any.whl.metadata (6.1 kB)\n",
      "Requirement already satisfied: typing-extensions>=3.6.6 in c:\\users\\lenovo\\appdata\\roaming\\python\\python312\\site-packages (from tensorflow-intel==2.18.0->tensorflow) (4.12.2)\n",
      "Requirement already satisfied: wrapt>=1.11.0 in c:\\users\\lenovo\\anaconda3\\lib\\site-packages (from tensorflow-intel==2.18.0->tensorflow) (1.14.1)\n",
      "Requirement already satisfied: grpcio<2.0,>=1.24.3 in c:\\users\\lenovo\\appdata\\roaming\\python\\python312\\site-packages (from tensorflow-intel==2.18.0->tensorflow) (1.65.1)\n",
      "Collecting tensorboard<2.19,>=2.18 (from tensorflow-intel==2.18.0->tensorflow)\n",
      "  Downloading tensorboard-2.18.0-py3-none-any.whl.metadata (1.6 kB)\n",
      "Collecting keras>=3.5.0 (from tensorflow-intel==2.18.0->tensorflow)\n",
      "  Downloading keras-3.8.0-py3-none-any.whl.metadata (5.8 kB)\n",
      "Requirement already satisfied: numpy<2.1.0,>=1.26.0 in c:\\users\\lenovo\\appdata\\roaming\\python\\python312\\site-packages (from tensorflow-intel==2.18.0->tensorflow) (1.26.4)\n",
      "Requirement already satisfied: h5py>=3.11.0 in c:\\users\\lenovo\\anaconda3\\lib\\site-packages (from tensorflow-intel==2.18.0->tensorflow) (3.11.0)\n",
      "Collecting ml-dtypes<0.5.0,>=0.4.0 (from tensorflow-intel==2.18.0->tensorflow)\n",
      "  Downloading ml_dtypes-0.4.1-cp312-cp312-win_amd64.whl.metadata (20 kB)\n",
      "Requirement already satisfied: wheel<1.0,>=0.23.0 in c:\\users\\lenovo\\anaconda3\\lib\\site-packages (from astunparse>=1.6.0->tensorflow-intel==2.18.0->tensorflow) (0.44.0)\n",
      "Requirement already satisfied: rich in c:\\users\\lenovo\\anaconda3\\lib\\site-packages (from keras>=3.5.0->tensorflow-intel==2.18.0->tensorflow) (13.7.1)\n",
      "Collecting namex (from keras>=3.5.0->tensorflow-intel==2.18.0->tensorflow)\n",
      "  Downloading namex-0.0.8-py3-none-any.whl.metadata (246 bytes)\n",
      "Collecting optree (from keras>=3.5.0->tensorflow-intel==2.18.0->tensorflow)\n",
      "  Downloading optree-0.14.0-cp312-cp312-win_amd64.whl.metadata (48 kB)\n",
      "Requirement already satisfied: charset-normalizer<4,>=2 in c:\\users\\lenovo\\appdata\\roaming\\python\\python312\\site-packages (from requests<3,>=2.21.0->tensorflow-intel==2.18.0->tensorflow) (3.3.2)\n",
      "Requirement already satisfied: idna<4,>=2.5 in c:\\users\\lenovo\\appdata\\roaming\\python\\python312\\site-packages (from requests<3,>=2.21.0->tensorflow-intel==2.18.0->tensorflow) (3.7)\n",
      "Requirement already satisfied: urllib3<3,>=1.21.1 in c:\\users\\lenovo\\appdata\\roaming\\python\\python312\\site-packages (from requests<3,>=2.21.0->tensorflow-intel==2.18.0->tensorflow) (2.2.1)\n",
      "Requirement already satisfied: certifi>=2017.4.17 in c:\\users\\lenovo\\appdata\\roaming\\python\\python312\\site-packages (from requests<3,>=2.21.0->tensorflow-intel==2.18.0->tensorflow) (2024.2.2)\n",
      "Requirement already satisfied: markdown>=2.6.8 in c:\\users\\lenovo\\anaconda3\\lib\\site-packages (from tensorboard<2.19,>=2.18->tensorflow-intel==2.18.0->tensorflow) (3.4.1)\n",
      "Collecting tensorboard-data-server<0.8.0,>=0.7.0 (from tensorboard<2.19,>=2.18->tensorflow-intel==2.18.0->tensorflow)\n",
      "  Downloading tensorboard_data_server-0.7.2-py3-none-any.whl.metadata (1.1 kB)\n",
      "Requirement already satisfied: werkzeug>=1.0.1 in c:\\users\\lenovo\\appdata\\roaming\\python\\python312\\site-packages (from tensorboard<2.19,>=2.18->tensorflow-intel==2.18.0->tensorflow) (3.1.3)\n",
      "Requirement already satisfied: MarkupSafe>=2.1.1 in c:\\users\\lenovo\\appdata\\roaming\\python\\python312\\site-packages (from werkzeug>=1.0.1->tensorboard<2.19,>=2.18->tensorflow-intel==2.18.0->tensorflow) (2.1.5)\n",
      "Requirement already satisfied: markdown-it-py>=2.2.0 in c:\\users\\lenovo\\anaconda3\\lib\\site-packages (from rich->keras>=3.5.0->tensorflow-intel==2.18.0->tensorflow) (2.2.0)\n",
      "Requirement already satisfied: pygments<3.0.0,>=2.13.0 in c:\\users\\lenovo\\appdata\\roaming\\python\\python312\\site-packages (from rich->keras>=3.5.0->tensorflow-intel==2.18.0->tensorflow) (2.18.0)\n",
      "Requirement already satisfied: mdurl~=0.1 in c:\\users\\lenovo\\anaconda3\\lib\\site-packages (from markdown-it-py>=2.2.0->rich->keras>=3.5.0->tensorflow-intel==2.18.0->tensorflow) (0.1.0)\n",
      "Downloading tensorflow-2.18.0-cp312-cp312-win_amd64.whl (7.5 kB)\n",
      "Downloading tensorflow_intel-2.18.0-cp312-cp312-win_amd64.whl (390.3 MB)\n",
      "   ---------------------------------------- 0.0/390.3 MB ? eta -:--:--\n",
      "   ---------------------------------------- 0.8/390.3 MB 6.7 MB/s eta 0:00:58\n",
      "    --------------------------------------- 5.0/390.3 MB 15.1 MB/s eta 0:00:26\n",
      "   - -------------------------------------- 11.5/390.3 MB 21.9 MB/s eta 0:00:18\n",
      "   - -------------------------------------- 19.4/390.3 MB 26.6 MB/s eta 0:00:14\n",
      "   -- ------------------------------------- 28.0/390.3 MB 30.1 MB/s eta 0:00:13\n",
      "   --- ------------------------------------ 34.3/390.3 MB 29.9 MB/s eta 0:00:12\n",
      "   ---- ----------------------------------- 41.2/390.3 MB 30.1 MB/s eta 0:00:12\n",
      "   ---- ----------------------------------- 48.8/390.3 MB 31.0 MB/s eta 0:00:11\n",
      "   ----- ---------------------------------- 57.7/390.3 MB 32.2 MB/s eta 0:00:11\n",
      "   ------ --------------------------------- 65.0/390.3 MB 32.6 MB/s eta 0:00:10\n",
      "   ------- -------------------------------- 74.2/390.3 MB 33.6 MB/s eta 0:00:10\n",
      "   -------- ------------------------------- 81.3/390.3 MB 33.4 MB/s eta 0:00:10\n",
      "   --------- ------------------------------ 88.1/390.3 MB 33.5 MB/s eta 0:00:10\n",
      "   --------- ------------------------------ 97.0/390.3 MB 34.2 MB/s eta 0:00:09\n",
      "   ---------- ---------------------------- 102.8/390.3 MB 33.5 MB/s eta 0:00:09\n",
      "   ----------- --------------------------- 110.6/390.3 MB 33.8 MB/s eta 0:00:09\n",
      "   ----------- --------------------------- 119.0/390.3 MB 34.1 MB/s eta 0:00:08\n",
      "   ------------ -------------------------- 122.9/390.3 MB 33.4 MB/s eta 0:00:09\n",
      "   ------------ -------------------------- 124.0/390.3 MB 31.8 MB/s eta 0:00:09\n",
      "   ------------ -------------------------- 127.1/390.3 MB 30.8 MB/s eta 0:00:09\n",
      "   ------------- ------------------------- 135.0/390.3 MB 31.1 MB/s eta 0:00:09\n",
      "   -------------- ------------------------ 143.7/390.3 MB 31.6 MB/s eta 0:00:08\n",
      "   -------------- ------------------------ 148.1/390.3 MB 31.2 MB/s eta 0:00:08\n",
      "   --------------- ----------------------- 150.5/390.3 MB 30.3 MB/s eta 0:00:08\n",
      "   --------------- ----------------------- 153.1/390.3 MB 29.5 MB/s eta 0:00:09\n",
      "   --------------- ----------------------- 156.0/390.3 MB 29.0 MB/s eta 0:00:09\n",
      "   --------------- ----------------------- 159.6/390.3 MB 28.5 MB/s eta 0:00:09\n",
      "   ---------------- ---------------------- 168.0/390.3 MB 28.9 MB/s eta 0:00:08\n",
      "   ----------------- --------------------- 175.4/390.3 MB 29.1 MB/s eta 0:00:08\n",
      "   ------------------ -------------------- 181.4/390.3 MB 29.1 MB/s eta 0:00:08\n",
      "   ------------------ -------------------- 190.1/390.3 MB 29.5 MB/s eta 0:00:07\n",
      "   ------------------- ------------------- 199.0/390.3 MB 29.9 MB/s eta 0:00:07\n",
      "   -------------------- ------------------ 208.4/390.3 MB 30.3 MB/s eta 0:00:06\n",
      "   --------------------- ----------------- 215.2/390.3 MB 30.4 MB/s eta 0:00:06\n",
      "   ---------------------- ---------------- 224.4/390.3 MB 30.8 MB/s eta 0:00:06\n",
      "   ----------------------- --------------- 232.8/390.3 MB 31.0 MB/s eta 0:00:06\n",
      "   ------------------------ -------------- 240.9/390.3 MB 31.2 MB/s eta 0:00:05\n",
      "   ------------------------ -------------- 241.2/390.3 MB 31.2 MB/s eta 0:00:05\n",
      "   ------------------------ -------------- 245.9/390.3 MB 30.2 MB/s eta 0:00:05\n",
      "   ------------------------- ------------- 255.1/390.3 MB 30.5 MB/s eta 0:00:05\n",
      "   -------------------------- ------------ 262.9/390.3 MB 31.0 MB/s eta 0:00:05\n",
      "   --------------------------- ----------- 270.5/390.3 MB 31.4 MB/s eta 0:00:04\n",
      "   --------------------------- ----------- 278.7/390.3 MB 31.4 MB/s eta 0:00:04\n",
      "   ---------------------------- ---------- 286.5/390.3 MB 31.4 MB/s eta 0:00:04\n",
      "   ----------------------------- --------- 294.1/390.3 MB 31.4 MB/s eta 0:00:04\n",
      "   ------------------------------ -------- 301.7/390.3 MB 31.6 MB/s eta 0:00:03\n",
      "   ------------------------------ -------- 309.1/390.3 MB 31.6 MB/s eta 0:00:03\n",
      "   ------------------------------- ------- 317.5/390.3 MB 31.6 MB/s eta 0:00:03\n",
      "   -------------------------------- ------ 326.1/390.3 MB 31.5 MB/s eta 0:00:03\n",
      "   --------------------------------- ----- 334.2/390.3 MB 31.6 MB/s eta 0:00:02\n",
      "   ---------------------------------- ---- 342.4/390.3 MB 31.7 MB/s eta 0:00:02\n",
      "   ----------------------------------- --- 350.5/390.3 MB 31.7 MB/s eta 0:00:02\n",
      "   ----------------------------------- --- 358.6/390.3 MB 31.7 MB/s eta 0:00:01\n",
      "   ------------------------------------ -- 366.2/390.3 MB 31.9 MB/s eta 0:00:01\n",
      "   ------------------------------------- - 374.6/390.3 MB 31.9 MB/s eta 0:00:01\n",
      "   --------------------------------------  383.5/390.3 MB 32.0 MB/s eta 0:00:01\n",
      "   --------------------------------------  390.1/390.3 MB 33.7 MB/s eta 0:00:01\n",
      "   --------------------------------------  390.1/390.3 MB 33.7 MB/s eta 0:00:01\n",
      "   --------------------------------------  390.1/390.3 MB 33.7 MB/s eta 0:00:01\n",
      "   --------------------------------------  390.1/390.3 MB 33.7 MB/s eta 0:00:01\n",
      "   --------------------------------------  390.1/390.3 MB 33.7 MB/s eta 0:00:01\n",
      "   --------------------------------------  390.1/390.3 MB 33.7 MB/s eta 0:00:01\n",
      "   --------------------------------------  390.1/390.3 MB 33.7 MB/s eta 0:00:01\n",
      "   --------------------------------------  390.1/390.3 MB 33.7 MB/s eta 0:00:01\n",
      "   --------------------------------------  390.1/390.3 MB 33.7 MB/s eta 0:00:01\n",
      "   --------------------------------------  390.1/390.3 MB 33.7 MB/s eta 0:00:01\n",
      "   --------------------------------------- 390.3/390.3 MB 26.8 MB/s eta 0:00:00\n",
      "Downloading absl_py-2.1.0-py3-none-any.whl (133 kB)\n",
      "Downloading astunparse-1.6.3-py2.py3-none-any.whl (12 kB)\n",
      "Downloading flatbuffers-25.1.21-py2.py3-none-any.whl (30 kB)\n",
      "Downloading gast-0.6.0-py3-none-any.whl (21 kB)\n",
      "Downloading google_pasta-0.2.0-py3-none-any.whl (57 kB)\n",
      "Downloading keras-3.8.0-py3-none-any.whl (1.3 MB)\n",
      "   ---------------------------------------- 0.0/1.3 MB ? eta -:--:--\n",
      "   ---------------------------------------- 1.3/1.3 MB 22.1 MB/s eta 0:00:00\n",
      "Downloading libclang-18.1.1-py2.py3-none-win_amd64.whl (26.4 MB)\n",
      "   ---------------------------------------- 0.0/26.4 MB ? eta -:--:--\n",
      "   ---------- ----------------------------- 6.8/26.4 MB 32.3 MB/s eta 0:00:01\n",
      "   --------------------- ------------------ 14.2/26.4 MB 33.0 MB/s eta 0:00:01\n",
      "   ------------------------------ --------- 20.2/26.4 MB 31.9 MB/s eta 0:00:01\n",
      "   ---------------------------------------  26.2/26.4 MB 30.8 MB/s eta 0:00:01\n",
      "   ---------------------------------------- 26.4/26.4 MB 28.4 MB/s eta 0:00:00\n",
      "Downloading ml_dtypes-0.4.1-cp312-cp312-win_amd64.whl (127 kB)\n",
      "Downloading opt_einsum-3.4.0-py3-none-any.whl (71 kB)\n",
      "Downloading tensorboard-2.18.0-py3-none-any.whl (5.5 MB)\n",
      "   ---------------------------------------- 0.0/5.5 MB ? eta -:--:--\n",
      "   -------------------------------------- - 5.2/5.5 MB 29.0 MB/s eta 0:00:01\n",
      "   ---------------------------------------- 5.5/5.5 MB 24.0 MB/s eta 0:00:00\n",
      "Downloading termcolor-2.5.0-py3-none-any.whl (7.8 kB)\n",
      "Downloading tensorboard_data_server-0.7.2-py3-none-any.whl (2.4 kB)\n",
      "Downloading namex-0.0.8-py3-none-any.whl (5.8 kB)\n",
      "Downloading optree-0.14.0-cp312-cp312-win_amd64.whl (299 kB)\n",
      "Installing collected packages: namex, libclang, flatbuffers, termcolor, tensorboard-data-server, optree, opt-einsum, ml-dtypes, google-pasta, gast, astunparse, absl-py, tensorboard, keras, tensorflow-intel, tensorflow\n",
      "Successfully installed absl-py-2.1.0 astunparse-1.6.3 flatbuffers-25.1.21 gast-0.6.0 google-pasta-0.2.0 keras-3.8.0 libclang-18.1.1 ml-dtypes-0.4.1 namex-0.0.8 opt-einsum-3.4.0 optree-0.14.0 tensorboard-2.18.0 tensorboard-data-server-0.7.2 tensorflow-2.18.0 tensorflow-intel-2.18.0 termcolor-2.5.0\n",
      "Note: you may need to restart the kernel to use updated packages.\n"
     ]
    }
   ],
   "source": [
    "pip install tensorflow"
   ]
  },
  {
   "cell_type": "code",
   "execution_count": 3,
   "metadata": {},
   "outputs": [],
   "source": [
    "import numpy as np\n",
    "import pandas as pd\n",
    "import matplotlib.pyplot as plt\n",
    "import cv2 \n",
    "from tqdm import tqdm \n",
    "import warnings\n",
    "warnings.filterwarnings('ignore')"
   ]
  },
  {
   "cell_type": "code",
   "execution_count": null,
   "metadata": {},
   "outputs": [],
   "source": [
    "train_path =\"DATASET\\TRAIN\"\n",
    "test_path =\"DATASET\\TEST\""
   ]
  },
  {
   "cell_type": "code",
   "execution_count": 6,
   "metadata": {},
   "outputs": [],
   "source": [
    "from tensorflow.keras.models import Sequential \n",
    "from tensorflow.keras.layers import Conv2D,MaxPooling2D,Activation,Dropout,Flatten,Dense,BatchNormalization \n",
    "from tensorflow.keras.preprocessing.image import ImageDataGenerator,img_to_array,load_img \n",
    "from tensorflow.keras.utils import plot_model\n",
    "from glob import glob"
   ]
  },
  {
   "cell_type": "code",
   "execution_count": 12,
   "metadata": {},
   "outputs": [],
   "source": [
    "#Visualization\n",
    "\n",
    "import cv2\n",
    "import glob\n",
    "import pandas as pd\n",
    "\n",
    "x_data = []\n",
    "y_data = []\n",
    "\n",
    "train_path = \"DATASET\\TRAIN\"  # Replace with your actual train path\n",
    "\n",
    "# Loop through each category directory\n",
    "for category in glob.glob(train_path + '/*'):  # Fixed glob function usage\n",
    "    for file in glob.glob(category + '/**', recursive=True):  # Added recursive=True\n",
    "        # Read the image\n",
    "        img_array = cv2.imread(file)\n",
    "\n",
    "        if img_array is not None:  # Ensure the image is read successfully\n",
    "            # Convert the image to RGB\n",
    "            img_array = cv2.cvtColor(img_array, cv2.COLOR_BGR2RGB)\n",
    "\n",
    "            # Append the image and label\n",
    "            x_data.append(img_array)\n",
    "            y_data.append(category.split('/')[-1])  # Extract category name\n",
    "\n",
    "# Create a DataFrame\n",
    "data = pd.DataFrame({'image': x_data, 'label': y_data})\n"
   ]
  },
  {
   "cell_type": "code",
   "execution_count": 13,
   "metadata": {},
   "outputs": [
    {
     "data": {
      "text/plain": [
       "(22564, 2)"
      ]
     },
     "execution_count": 13,
     "metadata": {},
     "output_type": "execute_result"
    }
   ],
   "source": [
    "data.shape"
   ]
  },
  {
   "cell_type": "code",
   "execution_count": 14,
   "metadata": {},
   "outputs": [
    {
     "data": {
      "image/png": "[encoded data removed]",
      "text/plain": [
       "<Figure size 640x480 with 1 Axes>"
      ]
     },
     "metadata": {},
     "output_type": "display_data"
    }
   ],
   "source": [
    "import matplotlib.pyplot as plt\n",
    "\n",
    "colors = ['#aed157', '#c48bb8']\n",
    "\n",
    "# Correcting the typos and syntax\n",
    "plt.pie(\n",
    "    data.label.value_counts(), \n",
    "    labels=['Organic', 'Recyclable'], \n",
    "    autopct=\"%0.2f%%\",  # Fixed the mismatched string\n",
    "    colors=colors,      # Fixed 'Folors' to 'colors'\n",
    "    startangle=90, \n",
    "    explode=[0.05, 0.05]  # Ensure explode is correctly written\n",
    ")\n",
    "\n",
    "plt.show()\n"
   ]
  }
 ],
 "metadata": {
  "kernelspec": {
   "display_name": "base",
   "language": "python",
   "name": "python3"
  },
  "language_info": {
   "codemirror_mode": {
    "name": "ipython",
    "version": 3
   },
   "file_extension": ".py",
   "mimetype": "text/x-python",
   "name": "python",
   "nbconvert_exporter": "python",
   "pygments_lexer": "ipython3",
   "version": "3.12.7"
  }
 },
 "nbformat": 4,
 "nbformat_minor": 2
}
